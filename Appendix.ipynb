{
 "cells": [
  {
   "cell_type": "code",
   "execution_count": null,
   "metadata": {},
   "outputs": [],
   "source": [
    "from sklearn.ensemble import RandomForestClassifier\n",
    "from sklearn.model_selection import GridSearchCV\n",
    "from sklearn.metrics import confusion_matrix\n",
    "from sklearn.metrics import classification_report\n",
    "from sklearn.metrics import accuracy_score\n",
    "from sklearn.decomposition import PCA\n",
    "from sklearn.model_selection import train_test_split\n",
    "from sklearn.preprocessing import StandardScaler\n",
    "import pandas as pd\n",
    "import seaborn as sns\n",
    "import matplotlib.pyplot as plt \n",
    "import warnings\n",
    "from sklearn.model_selection import GridSearchCV\n",
    "from sklearn.svm import SVC\n",
    "\n",
    "warnings.filterwarnings('ignore') #remove warning messages\n",
    "%matplotlib inline\n",
    "\n",
    "wine_data = pd.read_csv('./winequality-red.csv',sep=\";\")#Reading the data\n",
    "\n",
    "\n",
    "# COMMENT OUT TO REMOVE DUPLICATES\n",
    "# wine_data.drop_duplicates(inplace = True)#Remove any duplicates\n",
    "# wine_data.duplicated().sum()"
   ]
  },
  {
   "cell_type": "code",
   "execution_count": null,
   "metadata": {},
   "outputs": [],
   "source": [
    "plt.figure(figsize=(12,10))\n",
    "plt.title(\"Correlation heat map to Visualize Classes\")\n",
    "sns.heatmap(wine_data.corr(),annot=True, cmap='coolwarm',fmt='.2f');"
   ]
  },
  {
   "cell_type": "code",
   "execution_count": null,
   "metadata": {},
   "outputs": [],
   "source": [
    "wine_data.hist(figsize=(15, 10));"
   ]
  },
  {
   "cell_type": "code",
   "execution_count": null,
   "metadata": {},
   "outputs": [],
   "source": [
    "cm = confusion_matrix(y_test, y_pred)#Get the confusion matrix\n",
    "df_cm = pd.DataFrame(cm)\n",
    "ax= plt.subplot()\n",
    "sns.set()\n",
    "sns.heatmap(df_cm, annot=True, annot_kws={\"size\": 12})#Font size\n",
    "ax.set_xlabel('Predicted labels');ax.set_ylabel('True labels'); \n",
    "ax.set_title('Confusion Matrix for Wine Quality Classification'); \n",
    "ax.xaxis.set_ticklabels(wine_data.quality.unique()); ax.yaxis.set_ticklabels(wine_data.quality.unique());\n",
    "plt.show()"
   ]
  },
  {
   "cell_type": "code",
   "execution_count": null,
   "metadata": {},
   "outputs": [],
   "source": [
    "df_pca = wine_data.copy()\n",
    "X_pca = df_pca.iloc[:, :-1]\n",
    "y_pca = df_pca['quality']\n",
    "\n",
    "X_pca.tail()\n",
    "\n",
    "#Preprocessing in preparation for PCA: Standardizing the predictor variables\n",
    "X_pca = StandardScaler().fit_transform(X_pca)\n",
    "\n",
    "#Fit PCA\n",
    "pca = PCA(n_components=2)\n",
    "X_pca = pca.fit_transform(X_pca)\n",
    "\n",
    "X_pca.shape\n",
    "\n",
    "plt.figure(figsize=(8,6))\n",
    "plt.scatter(X_pca[:,0],X_pca[:,1],c=y_pca,cmap='rainbow')\n",
    "plt.xlabel('First principal component')\n",
    "plt.ylabel('Second Principal Component')\n",
    "plt.title(\"Using PCA to Visualize Classes\")\n",
    "plt.show()"
   ]
  },
  {
   "cell_type": "code",
   "execution_count": null,
   "metadata": {},
   "outputs": [],
   "source": [
    "X = wine_data.drop(['quality'],axis = 1)\n",
    "Y = wine_data['quality']\n",
    "x_train, x_test, y_train, y_test = train_test_split(X, Y, test_size = .25, random_state=42)"
   ]
  },
  {
   "cell_type": "code",
   "execution_count": null,
   "metadata": {},
   "outputs": [],
   "source": [
    "#Initialize the classifier\n",
    "winequalityclassifier = RandomForestClassifier(random_state=417)\n",
    "kfold = 3\n",
    "\n",
    "#Create a list of parameters you want to tune\n",
    "param_grid_RFC = { \n",
    "    'n_estimators': [ 3,4,5,6,8,10, 20, 30, 40, 50, 75, 100, 200, 400, 500, 700, 800,1000],\n",
    "    'max_depth': [7,8,9,10,11,12,13,14,15,30,40,50,100,200,300],\n",
    "    'criterion' : ['gini', 'entropy']\n",
    "}\n",
    "\n",
    "#Fit the model using grid search\n",
    "CV_rfc = GridSearchCV(estimator=winequalityclassifier, param_grid=param_grid_RFC, cv= kfold)\n",
    "CV_rfc.fit(x_train, y_train)\n",
    "#Use the model with the best parameters to test it with the testing data\n",
    "y_pred = CV_rfc.predict(x_test)\n",
    "#Print the result of best hyperparameters\n",
    "print(CV_rfc.best_params_)"
   ]
  },
  {
   "cell_type": "code",
   "execution_count": null,
   "metadata": {},
   "outputs": [],
   "source": [
    "print(classification_report(y_test, y_pred))#Get the classification report"
   ]
  },
  {
   "cell_type": "code",
   "execution_count": null,
   "metadata": {},
   "outputs": [],
   "source": [
    "wine_data[\"high_quality\"] = np.where(wine_data[\"quality\"] > 5.5, 1, 0)"
   ]
  },
  {
   "cell_type": "code",
   "execution_count": null,
   "metadata": {},
   "outputs": [],
   "source": [
    "X = wine_data.iloc[:, :11].to_numpy()\n",
    "y = wine_data.iloc[:, -1].to_numpy()\n",
    "\n",
    "X_train_val, X_test, y_train_val, y_test = train_test_split(X, y, test_size=0.25, random_state=13)\n",
    "X_train, X_val, y_train, y_val = train_test_split(X_train_val, y_train_val, test_size=0.2, random_state=12)"
   ]
  },
  {
   "cell_type": "code",
   "execution_count": null,
   "metadata": {},
   "outputs": [],
   "source": [
    "acc = []\n",
    "\n",
    "for d in params[\"degree\"]:\n",
    "    y_pred = SVC(kernel=\"poly\", degree=d).fit(X_train, y_train).predict(X_val)\n",
    "    \n",
    "    acc.append(accuracy_score(y_val, y_pred))\n",
    "\n",
    "plt.plot(params[\"degree\"], acc)\n",
    "plt.xlabel(\"Polynomial Degree\")\n",
    "plt.ylabel(\"Accuracy Score\")\n",
    "plt.title(\"Polynomial Kernel Accuracy Scores vs Degree\")\n",
    "plt.show()"
   ]
  },
  {
   "cell_type": "code",
   "execution_count": null,
   "metadata": {},
   "outputs": [],
   "source": [
    "acc = []\n",
    "\n",
    "for kernel in params[\"kernel\"]:\n",
    "    y_pred = SVC(kernel=kernel, degree=8).fit(X_train, y_train).predict(X_val)\n",
    "    \n",
    "    acc.append(accuracy_score(y_val, y_pred))\n",
    "\n",
    "plt.plot(params[\"kernel\"], acc)\n",
    "plt.xlabel(\"Kernel Type\")\n",
    "plt.ylabel(\"Accuracy Score\")\n",
    "plt.title(\"Validation Scores vs Kernel Type\")\n",
    "plt.show()"
   ]
  },
  {
   "cell_type": "code",
   "execution_count": null,
   "metadata": {},
   "outputs": [],
   "source": [
    "acc = []\n",
    "\n",
    "for c in params[\"C\"]:\n",
    "    y_pred = SVC(C=c, kernel=\"linear\").fit(X_train, y_train).predict(X_val)\n",
    "    \n",
    "    acc.append(accuracy_score(y_val, y_pred))\n",
    "\n",
    "plt.plot(params[\"C\"], acc)\n",
    "plt.xlabel(\"C (Regularization Parameter)\")\n",
    "plt.ylabel(\"Accuracy Score\")\n",
    "plt.title(\"Validation Scores vs Regularization Strength\")\n",
    "plt.show()"
   ]
  }
 ],
 "metadata": {
  "kernelspec": {
   "display_name": "Python 3",
   "language": "python",
   "name": "python3"
  },
  "language_info": {
   "codemirror_mode": {
    "name": "ipython",
    "version": 3
   },
   "file_extension": ".py",
   "mimetype": "text/x-python",
   "name": "python",
   "nbconvert_exporter": "python",
   "pygments_lexer": "ipython3",
   "version": "3.8.5"
  }
 },
 "nbformat": 4,
 "nbformat_minor": 4
}
